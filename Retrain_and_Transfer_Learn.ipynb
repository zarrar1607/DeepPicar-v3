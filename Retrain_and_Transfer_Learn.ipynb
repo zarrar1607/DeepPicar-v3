{
  "nbformat": 4,
  "nbformat_minor": 0,
  "metadata": {
    "colab": {
      "provenance": []
    },
    "kernelspec": {
      "name": "python3",
      "display_name": "Python 3"
    },
    "language_info": {
      "name": "python"
    },
    "gpuClass": "standard",
    "accelerator": "GPU"
  },
  "cells": [
    {
      "cell_type": "code",
      "source": [
        "import tensorflow as tf\n",
        "import keras\n",
        "import cv2\n",
        "import numpy as np\n",
        "import matplotlib.pyplot as plt\n",
        "from tqdm import tqdm\n",
        "from pandas import read_csv\n",
        "from sklearn.model_selection import train_test_split\n",
        "from sklearn.metrics import classification_report, balanced_accuracy_score\n",
        "from sklearn.utils import class_weight\n",
        "import math\n",
        "import gc\n",
        "import glob\n",
        "import os"
      ],
      "metadata": {
        "id": "8ef-b5egQ-Ae"
      },
      "execution_count": null,
      "outputs": []
    },
    {
      "cell_type": "markdown",
      "source": [
        "# Downloading Base Model and Files"
      ],
      "metadata": {
        "id": "x6keekV3dE3s"
      }
    },
    {
      "cell_type": "code",
      "source": [
        "if(os.path.exists('/content/DeepPicar-v3/')):\n",
        "  os.system(\"rm -rf \"+\"/content/DeepPicar-v3/\")\n",
        "!git clone https://github.com/CSL-KU/DeepPicar-v3.git"
      ],
      "metadata": {
        "colab": {
          "base_uri": "https://localhost:8080/"
        },
        "id": "FmMU_lca8cWU",
        "outputId": "c59ab0a9-84f0-41e1-b57a-270d5642f860"
      },
      "execution_count": null,
      "outputs": [
        {
          "output_type": "stream",
          "name": "stdout",
          "text": [
            "Cloning into 'DeepPicar-v3'...\n",
            "remote: Enumerating objects: 27632, done.\u001b[K\n",
            "remote: Counting objects: 100% (27632/27632), done.\u001b[K\n",
            "remote: Compressing objects: 100% (20237/20237), done.\u001b[K\n",
            "remote: Total 27632 (delta 4279), reused 27628 (delta 4278), pack-reused 0\u001b[K\n",
            "Receiving objects: 100% (27632/27632), 233.39 MiB | 17.56 MiB/s, done.\n",
            "Resolving deltas: 100% (4279/4279), done.\n"
          ]
        }
      ]
    },
    {
      "cell_type": "code",
      "source": [
        "!cp -r '/content/drive/MyDrive/models' '/content/DeepPicar-v3/'\n",
        "# The model that is already trained. Took it from one of the Picars"
      ],
      "metadata": {
        "id": "CnhYLeK6OVN2"
      },
      "execution_count": null,
      "outputs": []
    },
    {
      "cell_type": "code",
      "source": [
        "model = tf.keras.models.load_model('/content/drive/MyDrive/models/Deeppicar-ori.hdf5')"
      ],
      "metadata": {
        "id": "BqeeWT8B8-Cn"
      },
      "execution_count": null,
      "outputs": []
    },
    {
      "cell_type": "code",
      "source": [
        "model.summary()"
      ],
      "metadata": {
        "id": "Ez_8m3c0N53i",
        "colab": {
          "base_uri": "https://localhost:8080/"
        },
        "outputId": "d3c7109e-c0ec-4657-bdf6-7baca8e629bd"
      },
      "execution_count": null,
      "outputs": [
        {
          "output_type": "stream",
          "name": "stdout",
          "text": [
            "Model: \"sequential\"\n",
            "_________________________________________________________________\n",
            " Layer (type)                Output Shape              Param #   \n",
            "=================================================================\n",
            " conv2d (Conv2D)             (None, 66, 200, 3)        228       \n",
            "                                                                 \n",
            " max_pooling2d (MaxPooling2D  (None, 31, 98, 3)        0         \n",
            " )                                                               \n",
            "                                                                 \n",
            " conv2d_1 (Conv2D)           (None, 31, 98, 24)        1824      \n",
            "                                                                 \n",
            " max_pooling2d_1 (MaxPooling  (None, 14, 47, 24)       0         \n",
            " 2D)                                                             \n",
            "                                                                 \n",
            " conv2d_2 (Conv2D)           (None, 14, 47, 36)        21636     \n",
            "                                                                 \n",
            " max_pooling2d_2 (MaxPooling  (None, 5, 22, 36)        0         \n",
            " 2D)                                                             \n",
            "                                                                 \n",
            " conv2d_3 (Conv2D)           (None, 5, 22, 48)         43248     \n",
            "                                                                 \n",
            " max_pooling2d_3 (MaxPooling  (None, 3, 20, 48)        0         \n",
            " 2D)                                                             \n",
            "                                                                 \n",
            " conv2d_4 (Conv2D)           (None, 3, 20, 64)         27712     \n",
            "                                                                 \n",
            " max_pooling2d_4 (MaxPooling  (None, 1, 18, 64)        0         \n",
            " 2D)                                                             \n",
            "                                                                 \n",
            " conv2d_5 (Conv2D)           (None, 1, 18, 64)         36928     \n",
            "                                                                 \n",
            " flatten (Flatten)           (None, 1152)              0         \n",
            "                                                                 \n",
            " dense (Dense)               (None, 100)               115300    \n",
            "                                                                 \n",
            " dense_1 (Dense)             (None, 50)                5050      \n",
            "                                                                 \n",
            " dense_2 (Dense)             (None, 10)                510       \n",
            "                                                                 \n",
            " dense_3 (Dense)             (None, 1)                 11        \n",
            "                                                                 \n",
            "=================================================================\n",
            "Total params: 252,447\n",
            "Trainable params: 252,447\n",
            "Non-trainable params: 0\n",
            "_________________________________________________________________\n"
          ]
        }
      ]
    },
    {
      "cell_type": "code",
      "source": [
        "print(\"Number of layers in the base model: \", len(model.layers))"
      ],
      "metadata": {
        "id": "wphdm21QVU_G",
        "colab": {
          "base_uri": "https://localhost:8080/"
        },
        "outputId": "28b0ce9f-8207-4809-91ad-182cd0bcdd02"
      },
      "execution_count": null,
      "outputs": [
        {
          "output_type": "stream",
          "name": "stdout",
          "text": [
            "Number of layers in the base model:  16\n"
          ]
        }
      ]
    },
    {
      "cell_type": "markdown",
      "source": [
        "# Made all functions"
      ],
      "metadata": {
        "id": "MISzgTAed1Q1"
      }
    },
    {
      "cell_type": "code",
      "source": [
        "img_width = 200\n",
        "img_height = 66\n",
        "img_channels = 3"
      ],
      "metadata": {
        "id": "Q1dXOtJwRfrh"
      },
      "execution_count": null,
      "outputs": []
    },
    {
      "cell_type": "code",
      "source": [
        "# Helper functions for evaluating model accuracy\n",
        "def rad2deg(rad):\n",
        "  return 180.0 * rad / math.pi\n",
        "def get_action(angle_rad):\n",
        "  degree = rad2deg(angle_rad)\n",
        "  lim = 10 # We found this value to be best experimentally\n",
        "  if degree < lim and degree > -lim:\n",
        "    return \"center\"\n",
        "  elif degree >= lim:\n",
        "    return \"right\"\n",
        "  elif degree <-lim:\n",
        "    return \"left\""
      ],
      "metadata": {
        "id": "L7-pHkPXO_Uj"
      },
      "execution_count": null,
      "outputs": []
    },
    {
      "cell_type": "code",
      "source": [
        "def data_prep(dataset_dir):\n",
        "  # Train/test data lists\n",
        "  imgs = []\n",
        "  vals = []\n",
        "\n",
        "  for vid_file_path in glob.iglob(f'{dataset_dir}/*.avi'):\n",
        "      csv_file_path = vid_file_path.replace('video', 'key').replace('avi', 'csv')\n",
        "      print(vid_file_path, csv_file_path)\n",
        "\n",
        "      vid = cv2.VideoCapture(vid_file_path)\n",
        "      ret,img = vid.read()\n",
        "      while(ret):\n",
        "          img =  img[img.shape[0]//2:]\n",
        "\n",
        "          # Convert to grayscale and read channel dimension\n",
        "          if img_channels == 1:\n",
        "              img = cv2.cvtColor(img, cv2.COLOR_BGR2GRAY)\n",
        "              img = cv2.resize(img, (img_width, img_height))\n",
        "              img = np.reshape(img, (img_height, img_width, img_channels))\n",
        "          # For RGB, just need to resize image\n",
        "          else:\n",
        "              img = cv2.resize(img, (img_width, img_height))\n",
        "          img = img / 255.\n",
        "          imgs.append(img)\n",
        "          ret,img = vid.read()\n",
        "      df = read_csv(csv_file_path)\n",
        "      temp = np.asarray(df[\"wheel\"].values)\n",
        "      vals.extend(temp)\n",
        "      print(len(imgs), len(vals))\n",
        "\n",
        "  # Convert lists to numpy arrays and ensure they are of equal length\n",
        "  imgs = np.asarray(imgs)  # input images\n",
        "  vals = np.asarray(vals)  # steering angles\n",
        "  assert len(imgs) == len(vals)\n",
        "  print(\"Loaded {} samples\".format(len(imgs)))\n",
        "  return imgs, vals\n"
      ],
      "metadata": {
        "id": "3HdSc83TQ6Xq"
      },
      "execution_count": null,
      "outputs": []
    },
    {
      "cell_type": "code",
      "source": [
        "def data_split(imgs, vals):\n",
        "  x_train, x_test, y_train, y_test = train_test_split(imgs, vals, test_size=0.35, stratify=vals)\n",
        "  print(f'x_train: {len(x_train)}')\n",
        "  print(f'x_test: {len(x_test)}')\n",
        "  return x_train, x_test, y_train, y_test"
      ],
      "metadata": {
        "id": "UDqsrRJrR77s"
      },
      "execution_count": null,
      "outputs": []
    },
    {
      "cell_type": "code",
      "source": [
        "import requests\n",
        "import os\n",
        "import zipfile\n",
        "import shutil\n",
        "from sklearn.metrics import confusion_matrix\n",
        "\n",
        "def get_accuracy(model, x_test, y_test):\n",
        "  print('For current dataset:')\n",
        "  pred_angle = model.predict(x_test)\n",
        "  pred = np.array(list(map(get_action, pred_angle)))\n",
        "  ground = np.array(list(map(get_action, y_test)))\n",
        "  curr_acc = np.mean(pred == ground)\n",
        "  cf = classification_report(ground, pred)\n",
        "\n",
        "  print()\n",
        "  print('------>Accuracy is %.2f<------' % curr_acc)\n",
        "  print()\n",
        "  print('Balanced Accuracy is %.2f' %balanced_accuracy_score(ground, pred))\n",
        "  print(cf)\n",
        "  print(confusion_matrix(ground, pred))\n",
        "\n",
        "  return curr_acc,cf\n",
        ""
      ],
      "metadata": {
        "id": "6ttFVeMXSvTq"
      },
      "execution_count": null,
      "outputs": []
    },
    {
      "cell_type": "code",
      "source": [
        "def save_model(model, model_file, dl):\n",
        "  # Save both the Keras and TFLite models\n",
        "  print(\"Model Save\")\n",
        "  model.save(f'/content/DeepPicar-v3/models/Deeppicar-ori.hdf5')\n",
        "\n",
        "  print(\"TFLite Model\")\n",
        "  converter = tf.lite.TFLiteConverter.from_keras_model(model)\n",
        "  converter.optimizations = [tf.lite.Optimize.DEFAULT]\n",
        "  # converter.target_spec.supported_types = [tf.float16]\n",
        "\n",
        "  quantized_tflite_model = converter.convert()\n",
        "\n",
        "  with open(model_file+\".tflite\", 'wb') as f:\n",
        "      f.write(quantized_tflite_model)\n",
        "\n",
        "  print (model_file+\".tflite is saved. copy this file to the robot\")\n",
        "\n",
        "  RunningInCOLAB = 'google.colab' in str(get_ipython())\n",
        "  if RunningInCOLAB and dl:\n",
        "      from google.colab import files\n",
        "      files.download(model_file+\".tflite\")\n",
        "      files.download('/content/DeepPicar-v3/models/Deeppicar-ori.hdf5')"
      ],
      "metadata": {
        "id": "JRAVNTjlm0YA"
      },
      "execution_count": null,
      "outputs": []
    },
    {
      "cell_type": "markdown",
      "source": [
        "Previously:\n",
        "\n",
        "Epochs = 20\n",
        "\n",
        "Batch_size = 64\n",
        "\n",
        "Adam Optimizer = 0.0003\n",
        "\n",
        "\n",
        "Functions:\n",
        "- rad2deg(rad) : return deg\n",
        "- get_action(angle_rad) : return left, right, center\n",
        "- data_prep(dataset_dir) :  return imgs, vals\n",
        "- data_split(imgs, vals) : return x_train, x_test, y_train, y_test\n",
        "- model_fit(model, x_train, y_train, x_test, y_test) : return history\n",
        "- get_accuracy(model, x_test, y_test) : return void\n",
        "- save_model(model_file): returns void but downloads .hdf5 and tflite\n",
        "\n",
        "\n",
        "Now:\n"
      ],
      "metadata": {
        "id": "wX4J3Q1wP8pZ"
      }
    },
    {
      "cell_type": "markdown",
      "source": [
        "# Retrain The Model on my Driving"
      ],
      "metadata": {
        "id": "xzcfoKOAGUum"
      }
    },
    {
      "cell_type": "code",
      "source": [
        "data_dir = '/content/drive/MyDrive/Dataset 1'\n",
        "imgs, vals = data_prep(data_dir)\n",
        "x_train,x_test,y_train,y_test = data_split(imgs, vals)"
      ],
      "metadata": {
        "colab": {
          "base_uri": "https://localhost:8080/"
        },
        "id": "6lg1uCoUGUcO",
        "outputId": "f46ca150-22f0-44dc-918d-5ed466c5f4a5"
      },
      "execution_count": null,
      "outputs": [
        {
          "output_type": "stream",
          "name": "stdout",
          "text": [
            "/content/drive/MyDrive/Dataset 1/out-video.avi /content/drive/MyDrive/Dataset 1/out-key.csv\n",
            "1217 1217\n",
            "Loaded 1217 samples\n",
            "x_train: 791\n",
            "x_test: 426\n"
          ]
        }
      ]
    },
    {
      "cell_type": "code",
      "source": [
        "model_name = \"model_large\"\n",
        "model_file = \"models/{}-{}x{}x{}\".format(model_name[6:], img_width, img_height, img_channels)\n",
        "print (\"Model compile\")\n",
        "lr = 5e-5\n",
        "optimizer = tf.keras.optimizers.Adam(lr)\n",
        "\n",
        "if os.path.isfile(model_file+\".h5\"):\n",
        "    print('True')\n",
        "    model = tf.keras.models.load_model(model_file+\".h5\")\n",
        "    optimizer = optimizer=tf.keras.optimizers.Adam(lr)\n",
        "\n",
        "model.compile(optimizer=optimizer,loss='huber')"
      ],
      "metadata": {
        "colab": {
          "base_uri": "https://localhost:8080/"
        },
        "id": "iof7Np3rJtBW",
        "outputId": "14b4faee-a360-40d7-b54a-90297a85fac5"
      },
      "execution_count": null,
      "outputs": [
        {
          "output_type": "stream",
          "name": "stdout",
          "text": [
            "Model compile\n"
          ]
        }
      ]
    },
    {
      "cell_type": "code",
      "source": [
        "#Training the model\n",
        "\n",
        "import time\n",
        "start_time = time.time()\n",
        "print (\"Model fit\")\n",
        "\n",
        "class_weights = class_weight.compute_class_weight(class_weight = 'balanced', classes = np.unique(y_train), y = y_train)\n",
        "class_weights = {i:class_weights[i] for i in range(len(class_weights))}\n",
        "\n",
        "# This trains the model\n",
        "history = model.fit(x_train, y_train, batch_size=64,\n",
        "                    epochs=20, validation_data=(x_test, y_test), class_weight=class_weights)\n",
        "# Plot training and validation losses\n",
        "print(history.history.keys())\n",
        "plt.plot(history.history['loss'])\n",
        "plt.plot(history.history['val_loss'])\n",
        "plt.title('model loss')\n",
        "plt.ylabel('loss')\n",
        "plt.xlabel('epoch')\n",
        "plt.legend(['train', 'test'], loc='upper left')\n",
        "plt.show()\n",
        "\n",
        "\n",
        "print(f'\\n--- {round(time.time() - start_time)} seconds ---')"
      ],
      "metadata": {
        "colab": {
          "base_uri": "https://localhost:8080/",
          "height": 1000
        },
        "id": "R4SHR38_JsA9",
        "outputId": "fbff86df-c9ea-4739-a0ef-8f4dd3b44d97"
      },
      "execution_count": null,
      "outputs": [
        {
          "output_type": "stream",
          "name": "stdout",
          "text": [
            "Model fit\n",
            "Epoch 1/20\n",
            "13/13 [==============================] - 10s 68ms/step - loss: 0.2458 - val_loss: 0.0324\n",
            "Epoch 2/20\n",
            "13/13 [==============================] - 0s 22ms/step - loss: 0.1736 - val_loss: 0.0316\n",
            "Epoch 3/20\n",
            "13/13 [==============================] - 0s 22ms/step - loss: 0.1654 - val_loss: 0.0307\n",
            "Epoch 4/20\n",
            "13/13 [==============================] - 0s 23ms/step - loss: 0.1591 - val_loss: 0.0295\n",
            "Epoch 5/20\n",
            "13/13 [==============================] - 0s 22ms/step - loss: 0.1508 - val_loss: 0.0280\n",
            "Epoch 6/20\n",
            "13/13 [==============================] - 0s 22ms/step - loss: 0.1396 - val_loss: 0.0261\n",
            "Epoch 7/20\n",
            "13/13 [==============================] - 0s 22ms/step - loss: 0.1294 - val_loss: 0.0245\n",
            "Epoch 8/20\n",
            "13/13 [==============================] - 0s 22ms/step - loss: 0.1230 - val_loss: 0.0236\n",
            "Epoch 9/20\n",
            "13/13 [==============================] - 0s 22ms/step - loss: 0.1206 - val_loss: 0.0233\n",
            "Epoch 10/20\n",
            "13/13 [==============================] - 0s 21ms/step - loss: 0.1178 - val_loss: 0.0237\n",
            "Epoch 11/20\n",
            "13/13 [==============================] - 0s 22ms/step - loss: 0.1167 - val_loss: 0.0228\n",
            "Epoch 12/20\n",
            "13/13 [==============================] - 0s 23ms/step - loss: 0.1150 - val_loss: 0.0228\n",
            "Epoch 13/20\n",
            "13/13 [==============================] - 0s 22ms/step - loss: 0.1102 - val_loss: 0.0226\n",
            "Epoch 14/20\n",
            "13/13 [==============================] - 0s 22ms/step - loss: 0.1104 - val_loss: 0.0224\n",
            "Epoch 15/20\n",
            "13/13 [==============================] - 0s 22ms/step - loss: 0.1099 - val_loss: 0.0222\n",
            "Epoch 16/20\n",
            "13/13 [==============================] - 0s 22ms/step - loss: 0.1086 - val_loss: 0.0220\n",
            "Epoch 17/20\n",
            "13/13 [==============================] - 0s 23ms/step - loss: 0.1076 - val_loss: 0.0221\n",
            "Epoch 18/20\n",
            "13/13 [==============================] - 0s 23ms/step - loss: 0.1058 - val_loss: 0.0220\n",
            "Epoch 19/20\n",
            "13/13 [==============================] - 0s 22ms/step - loss: 0.1048 - val_loss: 0.0219\n",
            "Epoch 20/20\n",
            "13/13 [==============================] - 0s 22ms/step - loss: 0.1060 - val_loss: 0.0215\n",
            "dict_keys(['loss', 'val_loss'])\n"
          ]
        },
        {
          "output_type": "display_data",
          "data": {
            "text/plain": [
              "<Figure size 432x288 with 1 Axes>"
            ],
            "image/png": "[encoded data removed]"
          },
          "metadata": {
            "needs_background": "light"
          }
        },
        {
          "output_type": "stream",
          "name": "stdout",
          "text": [
            "\n",
            "--- 22 seconds ---\n"
          ]
        }
      ]
    },
    {
      "cell_type": "code",
      "source": [
        "base_model_p, base_model_p_cf = get_accuracy(model, x_test, y_test)"
      ],
      "metadata": {
        "colab": {
          "base_uri": "https://localhost:8080/"
        },
        "id": "PYm4BwZ9KQtq",
        "outputId": "37d303c7-0df3-4b0d-ccde-c1bfe2a103d4"
      },
      "execution_count": null,
      "outputs": [
        {
          "output_type": "stream",
          "name": "stdout",
          "text": [
            "For current dataset:\n",
            "14/14 [==============================] - 0s 14ms/step\n",
            "\n",
            "------>Accuracy is 0.75<------\n",
            "\n",
            "Balanced Accuracy is 0.62\n",
            "              precision    recall  f1-score   support\n",
            "\n",
            "      center       0.83      0.82      0.83       308\n",
            "        left       0.52      0.42      0.47        26\n",
            "       right       0.55      0.61      0.58        92\n",
            "\n",
            "    accuracy                           0.75       426\n",
            "   macro avg       0.64      0.62      0.63       426\n",
            "weighted avg       0.75      0.75      0.75       426\n",
            "\n",
            "[[253  10  45]\n",
            " [ 15  11   0]\n",
            " [ 36   0  56]]\n"
          ]
        }
      ]
    },
    {
      "cell_type": "code",
      "source": [
        "model_name = \"model_large\"\n",
        "model_file = \"/content/DeepPicar-v3/models/{}-{}x{}x{}\".format(model_name[6:], img_width, img_height, img_channels)\n",
        "save_model(model, model_file, 1)"
      ],
      "metadata": {
        "colab": {
          "base_uri": "https://localhost:8080/",
          "height": 111
        },
        "id": "6I4LGCDi9sN_",
        "outputId": "533e8033-fb7c-472f-dd7d-cfc3f767ca96"
      },
      "execution_count": null,
      "outputs": [
        {
          "output_type": "stream",
          "name": "stdout",
          "text": [
            "Model Save\n",
            "TFLite Model\n"
          ]
        },
        {
          "output_type": "stream",
          "name": "stderr",
          "text": [
            "WARNING:absl:Found untraced functions such as _jit_compiled_convolution_op, _jit_compiled_convolution_op, _jit_compiled_convolution_op, _jit_compiled_convolution_op, _jit_compiled_convolution_op while saving (showing 5 of 6). These functions will not be directly callable after loading.\n"
          ]
        },
        {
          "output_type": "stream",
          "name": "stdout",
          "text": [
            "/content/DeepPicar-v3/models/large-200x66x3.tflite is saved. copy this file to the robot\n"
          ]
        },
        {
          "output_type": "display_data",
          "data": {
            "text/plain": [
              "<IPython.core.display.Javascript object>"
            ],
            "application/javascript": [
              "\n",
              "    async function download(id, filename, size) {\n",
              "      if (!google.colab.kernel.accessAllowed) {\n",
              "        return;\n",
              "      }\n",
              "      const div = document.createElement('div');\n",
              "      const label = document.createElement('label');\n",
              "      label.textContent = `Downloading \"${filename}\": `;\n",
              "      div.appendChild(label);\n",
              "      const progress = document.createElement('progress');\n",
              "      progress.max = size;\n",
              "      div.appendChild(progress);\n",
              "      document.body.appendChild(div);\n",
              "\n",
              "      const buffers = [];\n",
              "      let downloaded = 0;\n",
              "\n",
              "      const channel = await google.colab.kernel.comms.open(id);\n",
              "      // Send a message to notify the kernel that we're ready.\n",
              "      channel.send({})\n",
              "\n",
              "      for await (const message of channel.messages) {\n",
              "        // Send a message to notify the kernel that we're ready.\n",
              "        channel.send({})\n",
              "        if (message.buffers) {\n",
              "          for (const buffer of message.buffers) {\n",
              "            buffers.push(buffer);\n",
              "            downloaded += buffer.byteLength;\n",
              "            progress.value = downloaded;\n",
              "          }\n",
              "        }\n",
              "      }\n",
              "      const blob = new Blob(buffers, {type: 'application/binary'});\n",
              "      const a = document.createElement('a');\n",
              "      a.href = window.URL.createObjectURL(blob);\n",
              "      a.download = filename;\n",
              "      div.appendChild(a);\n",
              "      a.click();\n",
              "      div.remove();\n",
              "    }\n",
              "  "
            ]
          },
          "metadata": {}
        },
        {
          "output_type": "display_data",
          "data": {
            "text/plain": [
              "<IPython.core.display.Javascript object>"
            ],
            "application/javascript": [
              "download(\"download_37922ad8-efa2-4ef4-b19e-213a82be254d\", \"large-200x66x3.tflite\", 265448)"
            ]
          },
          "metadata": {}
        },
        {
          "output_type": "display_data",
          "data": {
            "text/plain": [
              "<IPython.core.display.Javascript object>"
            ],
            "application/javascript": [
              "\n",
              "    async function download(id, filename, size) {\n",
              "      if (!google.colab.kernel.accessAllowed) {\n",
              "        return;\n",
              "      }\n",
              "      const div = document.createElement('div');\n",
              "      const label = document.createElement('label');\n",
              "      label.textContent = `Downloading \"${filename}\": `;\n",
              "      div.appendChild(label);\n",
              "      const progress = document.createElement('progress');\n",
              "      progress.max = size;\n",
              "      div.appendChild(progress);\n",
              "      document.body.appendChild(div);\n",
              "\n",
              "      const buffers = [];\n",
              "      let downloaded = 0;\n",
              "\n",
              "      const channel = await google.colab.kernel.comms.open(id);\n",
              "      // Send a message to notify the kernel that we're ready.\n",
              "      channel.send({})\n",
              "\n",
              "      for await (const message of channel.messages) {\n",
              "        // Send a message to notify the kernel that we're ready.\n",
              "        channel.send({})\n",
              "        if (message.buffers) {\n",
              "          for (const buffer of message.buffers) {\n",
              "            buffers.push(buffer);\n",
              "            downloaded += buffer.byteLength;\n",
              "            progress.value = downloaded;\n",
              "          }\n",
              "        }\n",
              "      }\n",
              "      const blob = new Blob(buffers, {type: 'application/binary'});\n",
              "      const a = document.createElement('a');\n",
              "      a.href = window.URL.createObjectURL(blob);\n",
              "      a.download = filename;\n",
              "      div.appendChild(a);\n",
              "      a.click();\n",
              "      div.remove();\n",
              "    }\n",
              "  "
            ]
          },
          "metadata": {}
        },
        {
          "output_type": "display_data",
          "data": {
            "text/plain": [
              "<IPython.core.display.Javascript object>"
            ],
            "application/javascript": [
              "download(\"download_639fd765-0594-4d9d-9218-9a8860cb158a\", \"Deeppicar-ori.hdf5\", 3125280)"
            ]
          },
          "metadata": {}
        }
      ]
    },
    {
      "cell_type": "markdown",
      "source": [
        "#Data Perp For Transfer Learn"
      ],
      "metadata": {
        "id": "2Kw6ikJ4B0q8"
      }
    },
    {
      "cell_type": "code",
      "source": [
        "data_dir = '/content/drive/MyDrive/Dataset 2'\n",
        "imgs, vals = data_prep(data_dir)\n",
        "# New Data in dim lights. Where car cannot follow the path properly"
      ],
      "metadata": {
        "id": "sZ11zV8jB0MY",
        "colab": {
          "base_uri": "https://localhost:8080/"
        },
        "outputId": "06bc95be-3e43-49c5-cbd7-105065b76b24"
      },
      "execution_count": null,
      "outputs": [
        {
          "output_type": "stream",
          "name": "stdout",
          "text": [
            "/content/drive/MyDrive/Dataset 2/out-video.avi /content/drive/MyDrive/Dataset 2/out-key.csv\n",
            "737 737\n",
            "Loaded 737 samples\n"
          ]
        }
      ]
    },
    {
      "cell_type": "markdown",
      "source": [
        "#Split"
      ],
      "metadata": {
        "id": "DngFjvt0CWEB"
      }
    },
    {
      "cell_type": "code",
      "source": [
        "x_train,x_test,y_train,y_test = data_split(imgs, vals)"
      ],
      "metadata": {
        "id": "4r-8T5O4CNoW",
        "colab": {
          "base_uri": "https://localhost:8080/"
        },
        "outputId": "c9c6b523-1074-435f-80e6-7c11c57c0e9e"
      },
      "execution_count": null,
      "outputs": [
        {
          "output_type": "stream",
          "name": "stdout",
          "text": [
            "x_train: 479\n",
            "x_test: 258\n"
          ]
        }
      ]
    },
    {
      "cell_type": "code",
      "source": [
        "base_model_c, base_model_c_cf = get_accuracy(model, x_test, y_test)"
      ],
      "metadata": {
        "id": "L3sN-G6EEYqx",
        "colab": {
          "base_uri": "https://localhost:8080/"
        },
        "outputId": "ff65a803-695f-45bb-e614-4eada71c1ef7"
      },
      "execution_count": null,
      "outputs": [
        {
          "output_type": "stream",
          "name": "stdout",
          "text": [
            "For current dataset:\n",
            "9/9 [==============================] - 0s 20ms/step\n",
            "\n",
            "------>Accuracy is 0.75<------\n",
            "\n",
            "Balanced Accuracy is 0.48\n",
            "              precision    recall  f1-score   support\n",
            "\n",
            "      center       0.79      0.87      0.83       178\n",
            "        left       0.00      0.00      0.00        13\n",
            "       right       0.64      0.57      0.60        67\n",
            "\n",
            "    accuracy                           0.75       258\n",
            "   macro avg       0.48      0.48      0.48       258\n",
            "weighted avg       0.71      0.75      0.73       258\n",
            "\n",
            "[[155   2  21]\n",
            " [ 13   0   0]\n",
            " [ 29   0  38]]\n"
          ]
        }
      ]
    },
    {
      "cell_type": "markdown",
      "source": [
        "# Finally Trying Transfer learning on new Datset"
      ],
      "metadata": {
        "id": "i_9xyG23TVeL"
      }
    },
    {
      "cell_type": "code",
      "source": [
        "model_name = \"model_large\"\n",
        "model_file = \"models/{}-{}x{}x{}\".format(model_name[6:], img_width, img_height, img_channels)\n",
        "print (\"Model compile\")\n",
        "lr = 3e-4\n",
        "optimizer = tf.keras.optimizers.Adam(lr)\n",
        "\n",
        "if os.path.isfile(model_file+\".h5\"):\n",
        "    print('True')\n",
        "    model = tf.keras.models.load_model(model_file+\".h5\")\n",
        "    optimizer = optimizer=tf.keras.optimizers.Adam(5e-5)\n",
        "\n",
        "model.compile(optimizer=optimizer,loss='huber')"
      ],
      "metadata": {
        "id": "dxHE4iuKsWfr",
        "colab": {
          "base_uri": "https://localhost:8080/"
        },
        "outputId": "81208167-91b1-4700-fe8e-315cec245f72"
      },
      "execution_count": null,
      "outputs": [
        {
          "output_type": "stream",
          "name": "stdout",
          "text": [
            "Model compile\n"
          ]
        }
      ]
    },
    {
      "cell_type": "code",
      "source": [
        "print('---->Layers Trying to train: <----\\n')\n",
        "model.trainable = True\n",
        "# Let's take a look to see how many layers are in the base model\n",
        "print(\"Number of layers in the base model: \", len(model.layers), model.trainable)\n",
        "\n",
        "for layer in model.layers[:]:\n",
        "  layer.trainable = False\n",
        "#for layer in model.layers[2:13]:\n",
        "model.layers[2].trainable = True\n",
        "model.layers[14].trainable = True\n",
        "\n",
        "i = 0\n",
        "for layer in model.layers:\n",
        "  print(f'{i}. Layer {layer.name}: {layer.trainable}')\n",
        "  i+=1\n",
        "print('\\n\\n')\n",
        "\n",
        "print('Traianble Layers')\n",
        "i = 0\n",
        "for layer in model.layers:\n",
        "  if layer.trainable:\n",
        "      print(f'{i}. Layer {layer.name}: {layer.trainable}')\n",
        "  i+=1\n",
        "print('\\n\\n')\n",
        "\n",
        "model.summary()"
      ],
      "metadata": {
        "colab": {
          "base_uri": "https://localhost:8080/"
        },
        "id": "tpXdM9Sbfdlj",
        "outputId": "9d1e308f-a24e-44d7-817d-e0eda628de31"
      },
      "execution_count": null,
      "outputs": [
        {
          "output_type": "stream",
          "name": "stdout",
          "text": [
            "---->Layers Trying to train: <----\n",
            "\n",
            "Number of layers in the base model:  16 True\n",
            "0. Layer conv2d: False\n",
            "1. Layer max_pooling2d: False\n",
            "2. Layer conv2d_1: True\n",
            "3. Layer max_pooling2d_1: False\n",
            "4. Layer conv2d_2: False\n",
            "5. Layer max_pooling2d_2: False\n",
            "6. Layer conv2d_3: False\n",
            "7. Layer max_pooling2d_3: False\n",
            "8. Layer conv2d_4: False\n",
            "9. Layer max_pooling2d_4: False\n",
            "10. Layer conv2d_5: False\n",
            "11. Layer flatten: False\n",
            "12. Layer dense: False\n",
            "13. Layer dense_1: False\n",
            "14. Layer dense_2: True\n",
            "15. Layer dense_3: False\n",
            "\n",
            "\n",
            "\n",
            "Traianble Layers\n",
            "2. Layer conv2d_1: True\n",
            "14. Layer dense_2: True\n",
            "\n",
            "\n",
            "\n",
            "Model: \"sequential\"\n",
            "_________________________________________________________________\n",
            " Layer (type)                Output Shape              Param #   \n",
            "=================================================================\n",
            " conv2d (Conv2D)             (None, 66, 200, 3)        228       \n",
            "                                                                 \n",
            " max_pooling2d (MaxPooling2D  (None, 31, 98, 3)        0         \n",
            " )                                                               \n",
            "                                                                 \n",
            " conv2d_1 (Conv2D)           (None, 31, 98, 24)        1824      \n",
            "                                                                 \n",
            " max_pooling2d_1 (MaxPooling  (None, 14, 47, 24)       0         \n",
            " 2D)                                                             \n",
            "                                                                 \n",
            " conv2d_2 (Conv2D)           (None, 14, 47, 36)        21636     \n",
            "                                                                 \n",
            " max_pooling2d_2 (MaxPooling  (None, 5, 22, 36)        0         \n",
            " 2D)                                                             \n",
            "                                                                 \n",
            " conv2d_3 (Conv2D)           (None, 5, 22, 48)         43248     \n",
            "                                                                 \n",
            " max_pooling2d_3 (MaxPooling  (None, 3, 20, 48)        0         \n",
            " 2D)                                                             \n",
            "                                                                 \n",
            " conv2d_4 (Conv2D)           (None, 3, 20, 64)         27712     \n",
            "                                                                 \n",
            " max_pooling2d_4 (MaxPooling  (None, 1, 18, 64)        0         \n",
            " 2D)                                                             \n",
            "                                                                 \n",
            " conv2d_5 (Conv2D)           (None, 1, 18, 64)         36928     \n",
            "                                                                 \n",
            " flatten (Flatten)           (None, 1152)              0         \n",
            "                                                                 \n",
            " dense (Dense)               (None, 100)               115300    \n",
            "                                                                 \n",
            " dense_1 (Dense)             (None, 50)                5050      \n",
            "                                                                 \n",
            " dense_2 (Dense)             (None, 10)                510       \n",
            "                                                                 \n",
            " dense_3 (Dense)             (None, 1)                 11        \n",
            "                                                                 \n",
            "=================================================================\n",
            "Total params: 252,447\n",
            "Trainable params: 2,334\n",
            "Non-trainable params: 250,113\n",
            "_________________________________________________________________\n"
          ]
        }
      ]
    },
    {
      "cell_type": "code",
      "source": [
        "#Training the model\n",
        "ep = 5\n",
        "import time\n",
        "start_time = time.time()\n",
        "print (\"Model fit\")\n",
        "\n",
        "class_weights = class_weight.compute_class_weight(class_weight = 'balanced', classes = np.unique(y_train), y = y_train)\n",
        "class_weights = {i:class_weights[i] for i in range(len(class_weights))}\n",
        "\n",
        "# This trains the model\n",
        "history = model.fit(x_train, y_train, batch_size=64,\n",
        "                    epochs=ep, validation_data=(x_test, y_test), class_weight=class_weights)\n",
        "# Plot training and validation losses\n",
        "print(history.history.keys())\n",
        "plt.plot(history.history['loss'])\n",
        "plt.plot(history.history['val_loss'])\n",
        "plt.title('model loss')\n",
        "plt.ylabel('loss')\n",
        "plt.xlabel('epoch')\n",
        "plt.legend(['train', 'test'], loc='upper left')\n",
        "plt.show()\n",
        "\n",
        "\n",
        "print(f'\\n--- {round(time.time() - start_time)} seconds ---')"
      ],
      "metadata": {
        "id": "teeh8Kd8sdf8",
        "colab": {
          "base_uri": "https://localhost:8080/",
          "height": 553
        },
        "outputId": "c9871ac7-27f4-43a2-abf1-c82c84e2351d"
      },
      "execution_count": null,
      "outputs": [
        {
          "output_type": "stream",
          "name": "stdout",
          "text": [
            "Model fit\n",
            "Epoch 1/5\n",
            "8/8 [==============================] - 1s 91ms/step - loss: 0.1860 - val_loss: 0.0267\n",
            "Epoch 2/5\n",
            "8/8 [==============================] - 0s 23ms/step - loss: 0.1562 - val_loss: 0.0208\n",
            "Epoch 3/5\n",
            "8/8 [==============================] - 0s 23ms/step - loss: 0.1554 - val_loss: 0.0211\n",
            "Epoch 4/5\n",
            "8/8 [==============================] - 0s 24ms/step - loss: 0.1454 - val_loss: 0.0197\n",
            "Epoch 5/5\n",
            "8/8 [==============================] - 0s 22ms/step - loss: 0.1407 - val_loss: 0.0186\n",
            "dict_keys(['loss', 'val_loss'])\n"
          ]
        },
        {
          "output_type": "display_data",
          "data": {
            "text/plain": [
              "<Figure size 432x288 with 1 Axes>"
            ],
            "image/png": "[encoded data removed]"
          },
          "metadata": {
            "needs_background": "light"
          }
        },
        {
          "output_type": "stream",
          "name": "stdout",
          "text": [
            "\n",
            "--- 2 seconds ---\n"
          ]
        }
      ]
    },
    {
      "cell_type": "code",
      "source": [
        "model_c, model_c_cf = get_accuracy(model, x_test, y_test)"
      ],
      "metadata": {
        "id": "3EvgBYD7sj3c",
        "colab": {
          "base_uri": "https://localhost:8080/"
        },
        "outputId": "2f754f4e-1ef3-4b52-84f5-b47d4dab35af"
      },
      "execution_count": null,
      "outputs": [
        {
          "output_type": "stream",
          "name": "stdout",
          "text": [
            "For current dataset:\n",
            "9/9 [==============================] - 0s 5ms/step\n",
            "\n",
            "------>Accuracy is 0.83<------\n",
            "\n",
            "Balanced Accuracy is 0.79\n",
            "              precision    recall  f1-score   support\n",
            "\n",
            "      center       0.94      0.80      0.87       178\n",
            "        left       0.53      0.62      0.57        13\n",
            "       right       0.69      0.94      0.80        67\n",
            "\n",
            "    accuracy                           0.83       258\n",
            "   macro avg       0.72      0.79      0.75       258\n",
            "weighted avg       0.86      0.83      0.83       258\n",
            "\n",
            "[[143   7  28]\n",
            " [  5   8   0]\n",
            " [  4   0  63]]\n"
          ]
        }
      ]
    },
    {
      "cell_type": "code",
      "source": [
        "data_dir = '/content/drive/MyDrive/Dataset 1'\n",
        "imgs, vals = data_prep(data_dir)\n",
        "x_train,x_test,y_train,y_test = data_split(imgs, vals)\n",
        "model_p, model_p_cf = get_accuracy(model, x_test, y_test)"
      ],
      "metadata": {
        "colab": {
          "base_uri": "https://localhost:8080/"
        },
        "id": "Gx3RuERV_qTb",
        "outputId": "3ab51d50-9e28-4a97-e22d-7e7bad1de794"
      },
      "execution_count": null,
      "outputs": [
        {
          "output_type": "stream",
          "name": "stdout",
          "text": [
            "/content/drive/MyDrive/Dataset 1/out-video.avi /content/drive/MyDrive/Dataset 1/out-key.csv\n",
            "1217 1217\n",
            "Loaded 1217 samples\n",
            "x_train: 791\n",
            "x_test: 426\n",
            "For current dataset:\n",
            "14/14 [==============================] - 0s 4ms/step\n",
            "\n",
            "------>Accuracy is 0.71<------\n",
            "\n",
            "Balanced Accuracy is 0.64\n",
            "              precision    recall  f1-score   support\n",
            "\n",
            "      center       0.85      0.73      0.79       308\n",
            "        left       0.36      0.46      0.41        26\n",
            "       right       0.52      0.74      0.61        92\n",
            "\n",
            "    accuracy                           0.71       426\n",
            "   macro avg       0.58      0.64      0.60       426\n",
            "weighted avg       0.75      0.71      0.72       426\n",
            "\n",
            "[[224  21  63]\n",
            " [ 14  12   0]\n",
            " [ 24   0  68]]\n"
          ]
        }
      ]
    },
    {
      "cell_type": "markdown",
      "source": [
        "# Comparision"
      ],
      "metadata": {
        "id": "62FlfnOqhefi"
      }
    },
    {
      "cell_type": "code",
      "source": [
        "from tabulate import tabulate\n",
        "data = [[base_model_p_cf, model_p_cf],\n",
        "        [f'Accuracy: {base_model_p: .2%}', f'Accuracy: {model_p: .2%}']]\n",
        "col_names = [\"Base Model\", \"Transfer Learned Model\"]\n",
        "print(\"Dataset 1 - Original Light\")\n",
        "print(tabulate(data, headers=col_names, tablefmt=\"fancy_grid\"))\n",
        "\n",
        "\n",
        "data = [[base_model_c_cf, model_c_cf],\n",
        "         [f'Accuracy: {base_model_c: .2%}', f'Accuracy: {model_c: .2%}']]\n",
        "col_names = [\"Base Model\", \"Transfer Learned Model\"]\n",
        "print(\"Dataset 2 - Dim Light\")\n",
        "print(tabulate(data, headers=col_names, tablefmt=\"fancy_grid\"))"
      ],
      "metadata": {
        "id": "xQK9ACER72-x",
        "colab": {
          "base_uri": "https://localhost:8080/"
        },
        "outputId": "52bda115-7636-4629-c58d-a0b2b6a6546b"
      },
      "execution_count": null,
      "outputs": [
        {
          "output_type": "stream",
          "name": "stdout",
          "text": [
            "Dataset 1 - Original Light\n",
            "╒═══════════════════════════════════════════════════════╤═══════════════════════════════════════════════════════╕\n",
            "│ Base Model                                            │ Transfer Learned Model                                │\n",
            "╞═══════════════════════════════════════════════════════╪═══════════════════════════════════════════════════════╡\n",
            "│ precision    recall  f1-score   support               │ precision    recall  f1-score   support               │\n",
            "│                                                       │                                                       │\n",
            "│       center       0.83      0.82      0.83       308 │       center       0.85      0.73      0.79       308 │\n",
            "│         left       0.52      0.42      0.47        26 │         left       0.36      0.46      0.41        26 │\n",
            "│        right       0.55      0.61      0.58        92 │        right       0.52      0.74      0.61        92 │\n",
            "│                                                       │                                                       │\n",
            "│     accuracy                           0.75       426 │     accuracy                           0.71       426 │\n",
            "│    macro avg       0.64      0.62      0.63       426 │    macro avg       0.58      0.64      0.60       426 │\n",
            "│ weighted avg       0.75      0.75      0.75       426 │ weighted avg       0.75      0.71      0.72       426 │\n",
            "├───────────────────────────────────────────────────────┼───────────────────────────────────────────────────────┤\n",
            "│ Accuracy:  75.12%                                     │ Accuracy:  71.36%                                     │\n",
            "╘═══════════════════════════════════════════════════════╧═══════════════════════════════════════════════════════╛\n",
            "Dataset 2 - Dim Light\n",
            "╒═══════════════════════════════════════════════════════╤═══════════════════════════════════════════════════════╕\n",
            "│ Base Model                                            │ Transfer Learned Model                                │\n",
            "╞═══════════════════════════════════════════════════════╪═══════════════════════════════════════════════════════╡\n",
            "│ precision    recall  f1-score   support               │ precision    recall  f1-score   support               │\n",
            "│                                                       │                                                       │\n",
            "│       center       0.79      0.87      0.83       178 │       center       0.94      0.80      0.87       178 │\n",
            "│         left       0.00      0.00      0.00        13 │         left       0.53      0.62      0.57        13 │\n",
            "│        right       0.64      0.57      0.60        67 │        right       0.69      0.94      0.80        67 │\n",
            "│                                                       │                                                       │\n",
            "│     accuracy                           0.75       258 │     accuracy                           0.83       258 │\n",
            "│    macro avg       0.48      0.48      0.48       258 │    macro avg       0.72      0.79      0.75       258 │\n",
            "│ weighted avg       0.71      0.75      0.73       258 │ weighted avg       0.86      0.83      0.83       258 │\n",
            "├───────────────────────────────────────────────────────┼───────────────────────────────────────────────────────┤\n",
            "│ Accuracy:  74.81%                                     │ Accuracy:  82.95%                                     │\n",
            "╘═══════════════════════════════════════════════════════╧═══════════════════════════════════════════════════════╛\n"
          ]
        }
      ]
    },
    {
      "cell_type": "code",
      "source": [
        "[base_model_p, model_p]"
      ],
      "metadata": {
        "id": "ZFXqVYZlhggK",
        "colab": {
          "base_uri": "https://localhost:8080/"
        },
        "outputId": "9a56de58-0a40-4d56-9868-20ab32e29f8d"
      },
      "execution_count": null,
      "outputs": [
        {
          "output_type": "execute_result",
          "data": {
            "text/plain": [
              "[0.7511737089201878, 0.7136150234741784]"
            ]
          },
          "metadata": {},
          "execution_count": 27
        }
      ]
    },
    {
      "cell_type": "code",
      "source": [
        "[base_model_c, model_c]"
      ],
      "metadata": {
        "id": "eG80PNCmhfUj",
        "colab": {
          "base_uri": "https://localhost:8080/"
        },
        "outputId": "d43b2483-7007-4f24-b795-383e4b1cbea7"
      },
      "execution_count": null,
      "outputs": [
        {
          "output_type": "execute_result",
          "data": {
            "text/plain": [
              "[0.748062015503876, 0.8294573643410853]"
            ]
          },
          "metadata": {},
          "execution_count": 28
        }
      ]
    },
    {
      "cell_type": "code",
      "source": [
        "plt.plot([1, 2],[base_model_c*100, model_c*100], label = 'Dataset 2 - light dim', color = 'green')\n",
        "plt.plot([1,2],[base_model_p*100, model_p*100], label = 'Dataset 1 - original',color='red')\n",
        "plt.ylim(0,100)\n",
        "plt.legend()\n",
        "plt.show()"
      ],
      "metadata": {
        "id": "RPJhyVYqdEL8",
        "colab": {
          "base_uri": "https://localhost:8080/",
          "height": 269
        },
        "outputId": "ba64b06a-751a-4689-b98c-b34c606636f2"
      },
      "execution_count": null,
      "outputs": [
        {
          "output_type": "display_data",
          "data": {
            "text/plain": [
              "<Figure size 432x288 with 1 Axes>"
            ],
            "image/png": "[encoded data removed]"
          },
          "metadata": {
            "needs_background": "light"
          }
        }
      ]
    },
    {
      "cell_type": "code",
      "source": [
        "model_name = \"model_large\"\n",
        "model_file = \"/content/DeepPicar-v3/models/{}-{}x{}x{}\".format(model_name[6:], img_width, img_height, img_channels)\n",
        "save_model(model, model_file, 1)"
      ],
      "metadata": {
        "id": "ZF57gsNFsvoN",
        "colab": {
          "base_uri": "https://localhost:8080/",
          "height": 111
        },
        "outputId": "b1aa524b-cc1f-4347-9104-3523921f7d82"
      },
      "execution_count": null,
      "outputs": [
        {
          "output_type": "stream",
          "name": "stdout",
          "text": [
            "Model Save\n",
            "TFLite Model\n"
          ]
        },
        {
          "output_type": "stream",
          "name": "stderr",
          "text": [
            "WARNING:absl:Found untraced functions such as _jit_compiled_convolution_op, _jit_compiled_convolution_op, _jit_compiled_convolution_op, _jit_compiled_convolution_op, _jit_compiled_convolution_op while saving (showing 5 of 6). These functions will not be directly callable after loading.\n"
          ]
        },
        {
          "output_type": "stream",
          "name": "stdout",
          "text": [
            "/content/DeepPicar-v3/models/large-200x66x3.tflite is saved. copy this file to the robot\n"
          ]
        },
        {
          "output_type": "display_data",
          "data": {
            "text/plain": [
              "<IPython.core.display.Javascript object>"
            ],
            "application/javascript": [
              "\n",
              "    async function download(id, filename, size) {\n",
              "      if (!google.colab.kernel.accessAllowed) {\n",
              "        return;\n",
              "      }\n",
              "      const div = document.createElement('div');\n",
              "      const label = document.createElement('label');\n",
              "      label.textContent = `Downloading \"${filename}\": `;\n",
              "      div.appendChild(label);\n",
              "      const progress = document.createElement('progress');\n",
              "      progress.max = size;\n",
              "      div.appendChild(progress);\n",
              "      document.body.appendChild(div);\n",
              "\n",
              "      const buffers = [];\n",
              "      let downloaded = 0;\n",
              "\n",
              "      const channel = await google.colab.kernel.comms.open(id);\n",
              "      // Send a message to notify the kernel that we're ready.\n",
              "      channel.send({})\n",
              "\n",
              "      for await (const message of channel.messages) {\n",
              "        // Send a message to notify the kernel that we're ready.\n",
              "        channel.send({})\n",
              "        if (message.buffers) {\n",
              "          for (const buffer of message.buffers) {\n",
              "            buffers.push(buffer);\n",
              "            downloaded += buffer.byteLength;\n",
              "            progress.value = downloaded;\n",
              "          }\n",
              "        }\n",
              "      }\n",
              "      const blob = new Blob(buffers, {type: 'application/binary'});\n",
              "      const a = document.createElement('a');\n",
              "      a.href = window.URL.createObjectURL(blob);\n",
              "      a.download = filename;\n",
              "      div.appendChild(a);\n",
              "      a.click();\n",
              "      div.remove();\n",
              "    }\n",
              "  "
            ]
          },
          "metadata": {}
        },
        {
          "output_type": "display_data",
          "data": {
            "text/plain": [
              "<IPython.core.display.Javascript object>"
            ],
            "application/javascript": [
              "download(\"download_3ca2bd65-e67a-4ce2-9d52-a5e0c4d18834\", \"large-200x66x3.tflite\", 265448)"
            ]
          },
          "metadata": {}
        },
        {
          "output_type": "display_data",
          "data": {
            "text/plain": [
              "<IPython.core.display.Javascript object>"
            ],
            "application/javascript": [
              "\n",
              "    async function download(id, filename, size) {\n",
              "      if (!google.colab.kernel.accessAllowed) {\n",
              "        return;\n",
              "      }\n",
              "      const div = document.createElement('div');\n",
              "      const label = document.createElement('label');\n",
              "      label.textContent = `Downloading \"${filename}\": `;\n",
              "      div.appendChild(label);\n",
              "      const progress = document.createElement('progress');\n",
              "      progress.max = size;\n",
              "      div.appendChild(progress);\n",
              "      document.body.appendChild(div);\n",
              "\n",
              "      const buffers = [];\n",
              "      let downloaded = 0;\n",
              "\n",
              "      const channel = await google.colab.kernel.comms.open(id);\n",
              "      // Send a message to notify the kernel that we're ready.\n",
              "      channel.send({})\n",
              "\n",
              "      for await (const message of channel.messages) {\n",
              "        // Send a message to notify the kernel that we're ready.\n",
              "        channel.send({})\n",
              "        if (message.buffers) {\n",
              "          for (const buffer of message.buffers) {\n",
              "            buffers.push(buffer);\n",
              "            downloaded += buffer.byteLength;\n",
              "            progress.value = downloaded;\n",
              "          }\n",
              "        }\n",
              "      }\n",
              "      const blob = new Blob(buffers, {type: 'application/binary'});\n",
              "      const a = document.createElement('a');\n",
              "      a.href = window.URL.createObjectURL(blob);\n",
              "      a.download = filename;\n",
              "      div.appendChild(a);\n",
              "      a.click();\n",
              "      div.remove();\n",
              "    }\n",
              "  "
            ]
          },
          "metadata": {}
        },
        {
          "output_type": "display_data",
          "data": {
            "text/plain": [
              "<IPython.core.display.Javascript object>"
            ],
            "application/javascript": [
              "download(\"download_7ab09cd4-bc19-4fd8-9ec5-2fa19ddfa44c\", \"Deeppicar-ori.hdf5\", 3125280)"
            ]
          },
          "metadata": {}
        }
      ]
    },
    {
      "cell_type": "markdown",
      "source": [
        "#Notes\n",
        "\n",
        "## Test 1:\n",
        "```\n",
        "Epoch = 10\n",
        "Layer conv2d: True\n",
        "Layer max_pooling2d: True\n",
        "Layer dense_3: True\n",
        "lr = 3e-4\n",
        "Time = --- 427 seconds ---\n",
        "```\n",
        "Observation:\n",
        "- accuracy drops\n",
        "\n",
        "# Test 2: ---> Best model so far practically <---\n",
        "```\n",
        "Epoch = 5\n",
        "Traianble Layers\n",
        "2. Layer conv2d_1: True\n",
        "14. Layer dense_2: True\n",
        "lr = 3e-4\n",
        "--- 103 seconds ---\n",
        "```\n",
        "Observation:\n",
        "- Full Light: 3 out 5 times fails to complete the path\n",
        "- Dim Light: 3 out 5 times fails to complete the path\n",
        "- The base dataset on which the model is trained is very important. It influnece the transfer model.\n",
        "- Since this is practically good model, some inferences drawn are:\n",
        "  - The accuracies of both datset must coincide\n",
        "  - none of the datset accuacies must drop - otherwise model is bond to fail\n",
        "  - Training the last layer will overfit the model: But stil experiment it with combination of layers\n",
        "  - Training the layers with less parameters help - Which I knew but was training the top layers initally. I decided to move with middle layer/hidden layers but withless params.\n",
        "  - Even though 2 epoch gets you less accuarcy but need to train more for better model.\n",
        "  - At the same time you need to keep epoch less otherwise it will corrupt the base model weights\n",
        "\n"
      ],
      "metadata": {
        "id": "CuXlYDr0uqPb"
      }
    },
    {
      "cell_type": "code",
      "source": [],
      "metadata": {
        "id": "ng87fBu6PoSU"
      },
      "execution_count": null,
      "outputs": []
    }
  ]
}